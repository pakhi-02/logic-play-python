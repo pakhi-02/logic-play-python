{
 "cells": [
  {
   "cell_type": "markdown",
   "metadata": {},
   "source": [
    "Ques: Take input of three numbers and check whether it can form a triangle, if yes ,then find which triangle it is(right angled,equilateral etc..) and find its area"
   ]
  },
  {
   "cell_type": "code",
   "execution_count": 1,
   "metadata": {},
   "outputs": [
    {
     "name": "stdout",
     "output_type": "stream",
     "text": [
      "Input the length of sides of the triangle:\n",
      "a:2\n",
      "b:2\n",
      "c:2\n",
      "Equilateral triangle\n"
     ]
    }
   ],
   "source": [
    "print('Input the length of sides of the triangle:')\n",
    "a = int(input('a:'))\n",
    "b = int(input('b:'))\n",
    "c = int(input('c:'))\n",
    "\n",
    "if a == b == c:\n",
    "    print('Equilateral triangle')\n",
    "    \n",
    "elif a==b or b==c or c==x:\n",
    "    print('Iscosceles triangle')\n",
    "\n",
    "else:\n",
    "    print('scalene triangle')"
   ]
  }
 ],
 "metadata": {
  "kernelspec": {
   "display_name": "Python 3",
   "language": "python",
   "name": "python3"
  },
  "language_info": {
   "codemirror_mode": {
    "name": "ipython",
    "version": 3
   },
   "file_extension": ".py",
   "mimetype": "text/x-python",
   "name": "python",
   "nbconvert_exporter": "python",
   "pygments_lexer": "ipython3",
   "version": "3.8.5"
  }
 },
 "nbformat": 4,
 "nbformat_minor": 4
}
