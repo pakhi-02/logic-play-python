{
 "cells": [
  {
   "cell_type": "code",
   "execution_count": 3,
   "metadata": {},
   "outputs": [
    {
     "name": "stdout",
     "output_type": "stream",
     "text": [
      "I'm going to inject name of Daisy here.\n"
     ]
    }
   ],
   "source": [
    "# string formatting\n",
    "\n",
    "#using placeholders\n",
    "\n",
    "print(\"I'm going to inject name of %s here.\" %'Daisy')"
   ]
  },
  {
   "cell_type": "code",
   "execution_count": 4,
   "metadata": {},
   "outputs": [
    {
     "name": "stdout",
     "output_type": "stream",
     "text": [
      "I'm going to inject game names among us pubg, and cod valo.\n"
     ]
    }
   ],
   "source": [
    "#You can pass multiple items by placing them inside a tuple after the % operator.\n",
    "\n",
    "print(\"I'm going to inject game names %s pubg, and %s valo.\" %('among us','cod'))"
   ]
  },
  {
   "cell_type": "code",
   "execution_count": 5,
   "metadata": {},
   "outputs": [
    {
     "name": "stdout",
     "output_type": "stream",
     "text": [
      "I'm going to inject daisy is a good girl, and bern good boy.\n"
     ]
    }
   ],
   "source": [
    "#variable names\n",
    "\n",
    "x, y = 'daisy', 'bern'\n",
    "print(\"I'm going to inject %s is a good girl, and %s good boy.\"%(x,y))"
   ]
  },
  {
   "cell_type": "code",
   "execution_count": 6,
   "metadata": {},
   "outputs": [
    {
     "name": "stdout",
     "output_type": "stream",
     "text": [
      "I wanna play basketball.\n",
      "I also can play 'Tennis'.\n"
     ]
    }
   ],
   "source": [
    "#Format conversion methods\n",
    "\n",
    "print('I wanna play %s.' %'basketball')\n",
    "print('I also can play %r.' %'Tennis')"
   ]
  },
  {
   "cell_type": "code",
   "execution_count": 7,
   "metadata": {},
   "outputs": [
    {
     "name": "stdout",
     "output_type": "stream",
     "text": [
      "I once ran this \tfast.\n",
      "I once ran 'really  fast'.\n"
     ]
    }
   ],
   "source": [
    "#\\t inserts a tab into a string.\n",
    "\n",
    "print('I once ran %s.' %'this \\tfast')\n",
    "print('I once ran %r.' %'really  fast')"
   ]
  },
  {
   "cell_type": "code",
   "execution_count": 8,
   "metadata": {},
   "outputs": [
    {
     "name": "stdout",
     "output_type": "stream",
     "text": [
      "I ate 10 pizzas today.\n",
      "I ate 10 pizzas today.\n"
     ]
    }
   ],
   "source": [
    "#The %s operator converts whatever it sees into a string, \n",
    "#including integers and floats. The %d operator converts numbers to integers first, without rounding.\n",
    "#for example\n",
    "\n",
    "\n",
    "print('I ate %s pizzas today.' %10)\n",
    "print('I ate %d pizzas today.' %10) "
   ]
  },
  {
   "cell_type": "code",
   "execution_count": 9,
   "metadata": {},
   "outputs": [
    {
     "name": "stdout",
     "output_type": "stream",
     "text": [
      "Floating point numbers: 69.70\n"
     ]
    }
   ],
   "source": [
    "#padding & precision of float numbers\n",
    "\n",
    "print('Floating point numbers: %5.2f' %(69.6969))  "
   ]
  },
  {
   "cell_type": "code",
   "execution_count": 10,
   "metadata": {},
   "outputs": [
    {
     "name": "stdout",
     "output_type": "stream",
     "text": [
      "Float number: 69.6969\n"
     ]
    }
   ],
   "source": [
    "print('Float number: %5.4f' %(69.6969))"
   ]
  },
  {
   "cell_type": "code",
   "execution_count": 11,
   "metadata": {},
   "outputs": [
    {
     "name": "stdout",
     "output_type": "stream",
     "text": [
      "Float number: 69.70\n"
     ]
    }
   ],
   "source": [
    "print('Float number: %1.2f' %(69.6969))"
   ]
  },
  {
   "cell_type": "code",
   "execution_count": 12,
   "metadata": {},
   "outputs": [
    {
     "name": "stdout",
     "output_type": "stream",
     "text": [
      "Float number:      69.70\n"
     ]
    }
   ],
   "source": [
    "print('Float number: %10.2f' %(69.6969))"
   ]
  },
  {
   "cell_type": "code",
   "execution_count": 13,
   "metadata": {},
   "outputs": [
    {
     "name": "stdout",
     "output_type": "stream",
     "text": [
      "I ate: pizzas, and spent: 670.54, money: 'yesterday'\n"
     ]
    }
   ],
   "source": [
    "#multiple formatting\n",
    "\n",
    "print('I ate: %s, and spent: %5.2f, money: %r' %('pizzas',670.54,'yesterday'))"
   ]
  },
  {
   "cell_type": "code",
   "execution_count": 14,
   "metadata": {},
   "outputs": [
    {
     "name": "stdout",
     "output_type": "stream",
     "text": [
      "Chemistry is a boring subject\n"
     ]
    }
   ],
   "source": [
    "#Formatting with the .format() method\n",
    "\n",
    "print('Chemistry is a boring {}'.format('subject'))"
   ]
  },
  {
   "cell_type": "code",
   "execution_count": 15,
   "metadata": {},
   "outputs": [
    {
     "name": "stdout",
     "output_type": "stream",
     "text": [
      "Pizza: 1, chocolates: Two, money: 500\n"
     ]
    }
   ],
   "source": [
    "#advantage of placeholder method\n",
    "\n",
    "\n",
    "#nserted objects can be assigned keywords\n",
    "print('Pizza: {a}, chocolates: {b}, money: {c}'.format(a=1,b='Two',c=500))"
   ]
  },
  {
   "cell_type": "code",
   "execution_count": 16,
   "metadata": {},
   "outputs": [
    {
     "name": "stdout",
     "output_type": "stream",
     "text": [
      "The quick brown fox\n"
     ]
    }
   ],
   "source": [
    "# Inserted objects can be called by index position\n",
    "\n",
    "print('The {2} {1} {0}'.format('fox','brown','quick'))"
   ]
  },
  {
   "cell_type": "code",
   "execution_count": 17,
   "metadata": {},
   "outputs": [
    {
     "name": "stdout",
     "output_type": "stream",
     "text": [
      "A rupee saved is a rupee earned.\n",
      "A rupee saved is a rupee earned.\n"
     ]
    }
   ],
   "source": [
    "#Inserted objects can be reused, avoiding duplication\n",
    "\n",
    "#A rupee saved is a rupee earned.\n",
    "\n",
    "print('A %s saved is a %s earned.' %('rupee','rupee'))\n",
    "# vs.\n",
    "print('A {p} saved is a {p} earned.'.format(p='rupee'))"
   ]
  },
  {
   "cell_type": "code",
   "execution_count": 18,
   "metadata": {},
   "outputs": [
    {
     "name": "stdout",
     "output_type": "stream",
     "text": [
      "True     | false    \n",
      "       1 |         0\n",
      "       0 |         1\n"
     ]
    }
   ],
   "source": [
    "#Alignment, padding and precision with .format()\n",
    "\n",
    "print('{0:8} | {1:9}'.format('True', 'false'))\n",
    "print('{0:8} | {1:9}'.format(1, 0))\n",
    "print('{0:8} | {1:9}'.format(0, 1))"
   ]
  },
  {
   "cell_type": "code",
   "execution_count": 21,
   "metadata": {},
   "outputs": [
    {
     "name": "stdout",
     "output_type": "stream",
     "text": [
      "Left     |  Center  |    Right\n",
      "11       |    22    |       33\n"
     ]
    }
   ],
   "source": [
    "print('{0:<8} | {1:^8} | {2:>8}'.format('Left','Center','Right'))\n",
    "print('{0:<8} | {1:^8} | {2:>8}'.format(11,22,33))"
   ]
  },
  {
   "cell_type": "code",
   "execution_count": 22,
   "metadata": {},
   "outputs": [
    {
     "name": "stdout",
     "output_type": "stream",
     "text": [
      "Left==== | -Center- | ...Right\n",
      "11====== | ---22--- | ......33\n"
     ]
    }
   ],
   "source": [
    "print('{0:=<8} | {1:-^8} | {2:.>8}'.format('Left','Center','Right'))\n",
    "print('{0:=<8} | {1:-^8} | {2:.>8}'.format(11,22,33))"
   ]
  },
  {
   "cell_type": "code",
   "execution_count": 24,
   "metadata": {},
   "outputs": [
    {
     "name": "stdout",
     "output_type": "stream",
     "text": [
      "This is my ten-character, two-decimal number:     16.53\n",
      "This is my ten-character, two-decimal number:     16.53\n"
     ]
    }
   ],
   "source": [
    "print('This is my ten-character, two-decimal number:%10.2f' %16.534)\n",
    "print('This is my ten-character, two-decimal number:{0:10.2f}'.format(16.534))"
   ]
  },
  {
   "cell_type": "code",
   "execution_count": 25,
   "metadata": {},
   "outputs": [
    {
     "name": "stdout",
     "output_type": "stream",
     "text": [
      "He said his name is Pikacho.\n"
     ]
    }
   ],
   "source": [
    "#formatting string litreals\n",
    "#f-strings\n",
    "\n",
    "name = 'Pikacho'\n",
    "\n",
    "print(f\"He said his name is {name}.\")"
   ]
  },
  {
   "cell_type": "code",
   "execution_count": 26,
   "metadata": {},
   "outputs": [
    {
     "name": "stdout",
     "output_type": "stream",
     "text": [
      "He said his name is 'Pikacho'\n"
     ]
    }
   ],
   "source": [
    "print(f\"He said his name is {name!r}\")"
   ]
  },
  {
   "cell_type": "code",
   "execution_count": 27,
   "metadata": {},
   "outputs": [
    {
     "name": "stdout",
     "output_type": "stream",
     "text": [
      "My 10 character, four decimal number is:   60.3031\n",
      "My 10 character, four decimal number is:   60.3031\n"
     ]
    }
   ],
   "source": [
    "#Float formatting \n",
    "\n",
    "num = 60.303067538363\n",
    "\n",
    "print(\"My 10 character, four decimal number is:{0:10.4f}\".format(num))\n",
    "print(f\"My 10 character, four decimal number is:{num:{10}.{6}}\")"
   ]
  },
  {
   "cell_type": "code",
   "execution_count": 28,
   "metadata": {},
   "outputs": [
    {
     "name": "stdout",
     "output_type": "stream",
     "text": [
      "My 10 character, four decimal number is:   60.3000\n",
      "My 10 character, four decimal number is:      60.3\n"
     ]
    }
   ],
   "source": [
    "num = 60.30\n",
    "\n",
    "print(\"My 10 character, four decimal number is:{0:10.4f}\".format(num))\n",
    "print(f\"My 10 character, four decimal number is:{num:{10}.{6}}\")"
   ]
  },
  {
   "cell_type": "code",
   "execution_count": 29,
   "metadata": {},
   "outputs": [
    {
     "name": "stdout",
     "output_type": "stream",
     "text": [
      "My 10 character, four decimal number is:   60.3000\n",
      "My 10 character, four decimal number is:   60.3000\n"
     ]
    }
   ],
   "source": [
    "num = 60.30\n",
    "\n",
    "print(\"My 10 character, four decimal number is:{0:10.4f}\".format(num))\n",
    "print(f\"My 10 character, four decimal number is:{num:10.4f}\")"
   ]
  }
 ],
 "metadata": {
  "kernelspec": {
   "display_name": "Python 3",
   "language": "python",
   "name": "python3"
  },
  "language_info": {
   "codemirror_mode": {
    "name": "ipython",
    "version": 3
   },
   "file_extension": ".py",
   "mimetype": "text/x-python",
   "name": "python",
   "nbconvert_exporter": "python",
   "pygments_lexer": "ipython3",
   "version": "3.8.5"
  }
 },
 "nbformat": 4,
 "nbformat_minor": 4
}
