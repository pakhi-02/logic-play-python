{
 "cells": [
  {
   "cell_type": "markdown",
   "metadata": {},
   "source": [
    "STATEMENTS!!!!\n",
    "IF ELSE AND ELIF !!!!"
   ]
  },
  {
   "cell_type": "code",
   "execution_count": 2,
   "metadata": {},
   "outputs": [
    {
     "name": "stdout",
     "output_type": "stream",
     "text": [
      "Good Job\n"
     ]
    }
   ],
   "source": [
    "if True:\n",
    "    print('Good Job')"
   ]
  },
  {
   "cell_type": "code",
   "execution_count": 3,
   "metadata": {},
   "outputs": [
    {
     "name": "stdout",
     "output_type": "stream",
     "text": [
      "a is false beter luck next time!\n"
     ]
    }
   ],
   "source": [
    "a = False\n",
    "\n",
    "if a:\n",
    "    print('a is True!')\n",
    "else:\n",
    "    print('a is false beter luck next time!')"
   ]
  },
  {
   "cell_type": "markdown",
   "metadata": {},
   "source": [
    "Multiple Branches"
   ]
  },
  {
   "cell_type": "code",
   "execution_count": 5,
   "metadata": {},
   "outputs": [
    {
     "name": "stdout",
     "output_type": "stream",
     "text": [
      "i am Pakhi\n"
     ]
    }
   ],
   "source": [
    "a = 'Pakhi'\n",
    "if a == 'random':\n",
    "    print('i am random')\n",
    "elif a == 'Pakhi':\n",
    "    print('i am Pakhi')\n",
    "else:\n",
    "    print('where are you?')"
   ]
  },
  {
   "cell_type": "code",
   "execution_count": 6,
   "metadata": {},
   "outputs": [
    {
     "name": "stdout",
     "output_type": "stream",
     "text": [
      "Dominos Pizza!\n"
     ]
    }
   ],
   "source": [
    "b = 'Pizza'\n",
    "\n",
    "if b == 'Pizza':\n",
    "    print('Dominos Pizza!')\n",
    "else:\n",
    "    print(\"what do you wanna eat?\")"
   ]
  },
  {
   "cell_type": "code",
   "execution_count": 7,
   "metadata": {},
   "outputs": [
    {
     "name": "stdout",
     "output_type": "stream",
     "text": [
      "What are you gonna eat?\n"
     ]
    }
   ],
   "source": [
    "x = 'Burger'\n",
    "\n",
    "if x == 'Tea':\n",
    "    print('Love Tea!')\n",
    "elif x =='Pasta':\n",
    "    print('Love Pasta!')\n",
    "else:\n",
    "    print(\"What are you gonna eat?\")"
   ]
  }
 ],
 "metadata": {
  "kernelspec": {
   "display_name": "Python 3",
   "language": "python",
   "name": "python3"
  },
  "language_info": {
   "codemirror_mode": {
    "name": "ipython",
    "version": 3
   },
   "file_extension": ".py",
   "mimetype": "text/x-python",
   "name": "python",
   "nbconvert_exporter": "python",
   "pygments_lexer": "ipython3",
   "version": "3.8.5"
  }
 },
 "nbformat": 4,
 "nbformat_minor": 4
}
