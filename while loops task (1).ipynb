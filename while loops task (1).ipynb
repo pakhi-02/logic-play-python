{
 "cells": [
  {
   "cell_type": "markdown",
   "metadata": {},
   "source": [
    "While Loops"
   ]
  },
  {
   "cell_type": "code",
   "execution_count": 3,
   "metadata": {},
   "outputs": [
    {
     "name": "stdout",
     "output_type": "stream",
     "text": [
      "a is currently:  0\n",
      "a is still less than 20, adding 2 to a\n",
      "a is currently:  2\n",
      "a is still less than 20, adding 2 to a\n",
      "a is currently:  4\n",
      "a is still less than 20, adding 2 to a\n",
      "a is currently:  6\n",
      "a is still less than 20, adding 2 to a\n",
      "a is currently:  8\n",
      "a is still less than 20, adding 2 to a\n",
      "a is currently:  10\n",
      "a is still less than 20, adding 2 to a\n",
      "a is currently:  12\n",
      "a is still less than 20, adding 2 to a\n",
      "a is currently:  14\n",
      "a is still less than 20, adding 2 to a\n",
      "a is currently:  16\n",
      "a is still less than 20, adding 2 to a\n",
      "a is currently:  18\n",
      "a is still less than 20, adding 2 to a\n"
     ]
    }
   ],
   "source": [
    "a = 0\n",
    "\n",
    "while a < 20:\n",
    "    print('a is currently: ',a)\n",
    "    print('a is still less than 20, adding 2 to a')\n",
    "    a+=2 "
   ]
  },
  {
   "cell_type": "code",
   "execution_count": 4,
   "metadata": {},
   "outputs": [
    {
     "name": "stdout",
     "output_type": "stream",
     "text": [
      "a is currently:  0\n",
      "a is still less than 20, adding 2 to a\n",
      "a is currently:  2\n",
      "a is still less than 20, adding 2 to a\n",
      "a is currently:  4\n",
      "a is still less than 20, adding 2 to a\n",
      "a is currently:  6\n",
      "a is still less than 20, adding 2 to a\n",
      "a is currently:  8\n",
      "a is still less than 20, adding 2 to a\n",
      "a is currently:  10\n",
      "a is still less than 20, adding 2 to a\n",
      "a is currently:  12\n",
      "a is still less than 20, adding 2 to a\n",
      "a is currently:  14\n",
      "a is still less than 20, adding 2 to a\n",
      "a is currently:  16\n",
      "a is still less than 20, adding 2 to a\n",
      "a is currently:  18\n",
      "a is still less than 20, adding 2 to a\n",
      "DoNe!!!\n"
     ]
    }
   ],
   "source": [
    "a = 0\n",
    "\n",
    "while a < 20:\n",
    "    print('a is currently: ',a)\n",
    "    print('a is still less than 20, adding 2 to a')\n",
    "    a+=2 \n",
    "    \n",
    "else :\n",
    "    print('DoNe!!!')"
   ]
  },
  {
   "cell_type": "markdown",
   "metadata": {},
   "source": [
    "Break, Continue and Pass"
   ]
  },
  {
   "cell_type": "code",
   "execution_count": 5,
   "metadata": {},
   "outputs": [
    {
     "name": "stdout",
     "output_type": "stream",
     "text": [
      "a is currently:  0\n",
      "a is still less than 20, adding 2 to a\n",
      "dumb\n",
      "a is currently:  2\n",
      "a is still less than 20, adding 2 to a\n",
      "a==4\n",
      "a is currently:  4\n",
      "a is still less than 20, adding 2 to a\n",
      "dumb\n",
      "a is currently:  6\n",
      "a is still less than 20, adding 2 to a\n",
      "dumb\n",
      "a is currently:  8\n",
      "a is still less than 20, adding 2 to a\n",
      "dumb\n",
      "a is currently:  10\n",
      "a is still less than 20, adding 2 to a\n",
      "dumb\n",
      "a is currently:  12\n",
      "a is still less than 20, adding 2 to a\n",
      "dumb\n",
      "a is currently:  14\n",
      "a is still less than 20, adding 2 to a\n",
      "dumb\n",
      "a is currently:  16\n",
      "a is still less than 20, adding 2 to a\n",
      "dumb\n",
      "a is currently:  18\n",
      "a is still less than 20, adding 2 to a\n",
      "dumb\n"
     ]
    }
   ],
   "source": [
    "a = 0\n",
    "\n",
    "while a < 20:\n",
    "    print('a is currently: ',a)\n",
    "    print('a is still less than 20, adding 2 to a')\n",
    "    a+=2 \n",
    "    \n",
    "    if a ==4:\n",
    "        print('a==4')\n",
    "        \n",
    "    else:\n",
    "        print('dumb')\n",
    "        continue"
   ]
  }
 ],
 "metadata": {
  "kernelspec": {
   "display_name": "Python 3",
   "language": "python",
   "name": "python3"
  },
  "language_info": {
   "codemirror_mode": {
    "name": "ipython",
    "version": 3
   },
   "file_extension": ".py",
   "mimetype": "text/x-python",
   "name": "python",
   "nbconvert_exporter": "python",
   "pygments_lexer": "ipython3",
   "version": "3.8.5"
  }
 },
 "nbformat": 4,
 "nbformat_minor": 4
}
